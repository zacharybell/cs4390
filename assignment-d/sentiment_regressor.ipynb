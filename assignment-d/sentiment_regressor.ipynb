{
 "cells": [
  {
   "cell_type": "markdown",
   "metadata": {},
   "source": [
    "#### Importing the Cornell Movie Review set"
   ]
  },
  {
   "cell_type": "code",
   "execution_count": 2,
   "metadata": {},
   "outputs": [
    {
     "name": "stderr",
     "output_type": "stream",
     "text": [
      "/media/zachary/Data/Codebase/cs4390/venv/lib/python3.6/site-packages/ipykernel_launcher.py:39: ParserWarning: Falling back to the 'python' engine because the 'c' engine does not support regex separators (separators > 1 char and different from '\\s+' are interpreted as regex); you can avoid this warning by specifying engine='python'.\n"
     ]
    },
    {
     "name": "stdout",
     "output_type": "stream",
     "text": [
      "                                                   x    y            rater\n",
      "0  in my opinion , a movie reviewer's most import...  0.1  Dennis+Schwartz\n",
      "1  you can watch this movie , that is based on a ...  0.2  Dennis+Schwartz\n",
      "2  this is asking a lot to believe , and though i...  0.2  Dennis+Schwartz\n",
      "3  no heroes and no story are the main attributes...  0.2  Dennis+Schwartz\n",
      "4  this is not an art movie , yet i saw it an art...  0.2  Dennis+Schwartz\n"
     ]
    }
   ],
   "source": [
    "import pandas as pd\n",
    "import os\n",
    "import fnmatch\n",
    "\n",
    "CORNELL_DATA = 'data/cornell'\n",
    "IMDB_DATASET = 'imdb.npz'\n",
    "RATERS       = ['Dennis+Schwartz', 'James+Berardinelli', 'Scott+Renshaw', 'Steve+Rhodes']\n",
    "\n",
    "def feature_label_pair(path, feature_reg, label_reg):\n",
    "    \"\"\"Finds and returns a relative path for a feature and label file.\n",
    "    \n",
    "    This function is intended to locate feature label pairs in a directory.\n",
    "    \n",
    "    Args:\n",
    "        path (str)      : the path to the searched directory\n",
    "        feature_reg(str): a regex for the feature file\n",
    "        label_reg (str) : a regex for the label file\n",
    "        \n",
    "    Returns:\n",
    "        A tuple of feature file's path and label's file path or None if one (or both)\n",
    "        aren't located.\n",
    "        \n",
    "    \"\"\"\n",
    "    feature_file = ''\n",
    "    label_file = ''\n",
    "    for file in os.listdir(path):\n",
    "        if fnmatch.fnmatch(file, feature_reg):\n",
    "            feature_file = os.path.join(path, file)\n",
    "        if fnmatch.fnmatch(file, label_reg):\n",
    "            label_file = os.path.join(path, file)\n",
    "        if feature_file and label_file:\n",
    "            return (feature_file, label_file)\n",
    "    return\n",
    "\n",
    "cornell_df   = pd.DataFrame()\n",
    "for r in RATERS:\n",
    "    (ff, lf)          = feature_label_pair(os.path.join(CORNELL_DATA, r), 'subj*', 'rating*')\n",
    "                        # pandas doesn't have ignore separator feature\n",
    "    feat_df           = pd.read_csv(ff, names='x', sep='☺️')\n",
    "    label_df          = pd.read_csv(lf, names='y')\n",
    "    rater_df          = pd.concat([feat_df, label_df], axis=1)\n",
    "    rater_df['rater'] = r\n",
    "    cornell_df        = pd.concat([cornell_df, rater_df], axis=0, ignore_index=True)\n",
    "\n",
    "print(cornell_df.head())"
   ]
  },
  {
   "cell_type": "markdown",
   "metadata": {},
   "source": [
    "#### Tokenize"
   ]
  },
  {
   "cell_type": "code",
   "execution_count": 5,
   "metadata": {},
   "outputs": [],
   "source": [
    "from nltk.tokenize import TweetTokenizer\n",
    "\n",
    "tokenizer = TweetTokenizer()\n",
    "cornell_df['x_tok'] = [tokenizer.tokenize(r) for r in cornell_df['x']]"
   ]
  },
  {
   "cell_type": "markdown",
   "metadata": {},
   "source": [
    "#### Lemmatization"
   ]
  },
  {
   "cell_type": "code",
   "execution_count": 36,
   "metadata": {},
   "outputs": [
    {
     "name": "stdout",
     "output_type": "stream",
     "text": [
      "[nltk_data] Downloading package wordnet to /home/zachary/nltk_data...\n",
      "[nltk_data]   Package wordnet is already up-to-date!\n"
     ]
    }
   ],
   "source": [
    "import nltk\n",
    "nltk.download('wordnet')\n",
    "\n",
    "from nltk.stem import WordNetLemmatizer\n",
    "import numpy as np\n",
    "\n",
    "def lemmatize_row(row):\n",
    "    \n",
    "    lem = []\n",
    "    lemmatizer = WordNetLemmatizer()\n",
    "    \n",
    "    for w in row:\n",
    "        lem.append(lemmatizer.lemmatize(w))\n",
    "        \n",
    "    return lem\n",
    "        "
   ]
  },
  {
   "cell_type": "code",
   "execution_count": 37,
   "metadata": {},
   "outputs": [],
   "source": [
    "cornell_df['x_lem'] = [ lemmatize_row(r) for r in cornell_df['x_tok'] ]"
   ]
  },
  {
   "cell_type": "markdown",
   "metadata": {},
   "source": [
    "#### Padding Data"
   ]
  },
  {
   "cell_type": "code",
   "execution_count": 53,
   "metadata": {},
   "outputs": [
    {
     "name": "stdout",
     "output_type": "stream",
     "text": [
      "Max:  2606\n",
      "Min:  10\n"
     ]
    },
    {
     "data": {
      "image/png": "[encoded data removed]",
      "text/plain": [
       "<Figure size 432x288 with 1 Axes>"
      ]
     },
     "metadata": {
      "needs_background": "light"
     },
     "output_type": "display_data"
    }
   ],
   "source": [
    "%matplotlib inline\n",
    "\n",
    "import matplotlib.pyplot as plt\n",
    " \n",
    "\n",
    "sample_lengths = list(map(len, cornell_df['x_lem']))\n",
    "\n",
    "fig1, ax1 = plt.subplots()\n",
    "ax1.set_title('Length of Reviews')\n",
    "ax1.boxplot(sample_lengths, showfliers=False, vert=False)\n",
    "\n",
    "print('Max: ', max(sample_lengths))\n",
    "print('Min: ', min(sample_lengths))"
   ]
  },
  {
   "cell_type": "code",
   "execution_count": 105,
   "metadata": {},
   "outputs": [],
   "source": [
    "# ~Q3\n",
    "THR = 550\n",
    "\n",
    "# Reduces all rows to length THR with rows less than THR padded with empty strings\n",
    "cornell_df['x_lem_thr'] = [ np.pad(r[:THR], (0, THR - len(r[:THR])), 'constant', constant_values='') \\\n",
    "                           for r in cornell_df['x_lem'] ]"
   ]
  },
  {
   "cell_type": "markdown",
   "metadata": {},
   "source": [
    "#### TF-IDF"
   ]
  },
  {
   "cell_type": "code",
   "execution_count": 156,
   "metadata": {},
   "outputs": [],
   "source": [
    "from sklearn.feature_extraction.text import TfidfVectorizer\n",
    "\n",
    "# prune words that are too frequent(stop words) and super rare words\n",
    "tfidf = TfidfVectorizer(max_df=0.9, min_df=0.05)\n",
    "\n",
    "# the way sklearn want the data\n",
    "tmp   = [ ' '.join(r) for r in cornell_df['x_lem_thr'] ]\n",
    "\n",
    "tfidf_data = tfidf.fit_transform(tmp)"
   ]
  },
  {
   "cell_type": "markdown",
   "metadata": {},
   "source": [
    "#### Random Forest (Baseline)"
   ]
  },
  {
   "cell_type": "code",
   "execution_count": 158,
   "metadata": {},
   "outputs": [
    {
     "data": {
      "text/plain": [
       "GridSearchCV(cv=5, error_score='raise-deprecating',\n",
       "       estimator=RandomForestRegressor(bootstrap=True, criterion='mse', max_depth=None,\n",
       "           max_features='auto', max_leaf_nodes=None,\n",
       "           min_impurity_decrease=0.0, min_impurity_split=None,\n",
       "           min_samples_leaf=1, min_samples_split=2,\n",
       "           min_weight_fraction_leaf=0.0, n_estimators=100, n_jobs=None,\n",
       "           oob_score=False, random_state=99, verbose=0, warm_start=False),\n",
       "       fit_params=None, iid='warn', n_jobs=-1,\n",
       "       param_grid={'max_depth': [2, 3, 4, 5, 6, 7]},\n",
       "       pre_dispatch='2*n_jobs', refit=True, return_train_score=True,\n",
       "       scoring=None, verbose=0)"
      ]
     },
     "execution_count": 158,
     "metadata": {},
     "output_type": "execute_result"
    }
   ],
   "source": [
    "from sklearn.ensemble import RandomForestRegressor\n",
    "from sklearn.model_selection import GridSearchCV, train_test_split\n",
    "\n",
    "forest = RandomForestRegressor(random_state=99, n_estimators=100)\n",
    "\n",
    "X_train, X_test, y_train, y_test = train_test_split(tfidf_data, cornell_df['y'], \n",
    "                                                    test_size=0.25, \n",
    "                                                    random_state=99,\n",
    "                                                    shuffle=True)\n",
    "\n",
    "params = { 'max_depth': [2, 3, 4, 5, 6, 7] }\n",
    "\n",
    "model = GridSearchCV(estimator=forest, param_grid=params, cv=5, return_train_score=True, n_jobs=-1)\n",
    "model.fit(X_train, y_train)"
   ]
  },
  {
   "cell_type": "code",
   "execution_count": 152,
   "metadata": {},
   "outputs": [
    {
     "data": {
      "text/plain": [
       "RandomForestRegressor(bootstrap=True, criterion='mse', max_depth=2,\n",
       "           max_features='auto', max_leaf_nodes=None,\n",
       "           min_impurity_decrease=0.0, min_impurity_split=None,\n",
       "           min_samples_leaf=1, min_samples_split=2,\n",
       "           min_weight_fraction_leaf=0.0, n_estimators=100, n_jobs=None,\n",
       "           oob_score=False, random_state=99, verbose=0, warm_start=False)"
      ]
     },
     "execution_count": 152,
     "metadata": {},
     "output_type": "execute_result"
    }
   ],
   "source": [
    "model.best_estimator_"
   ]
  },
  {
   "cell_type": "code",
   "execution_count": 154,
   "metadata": {},
   "outputs": [
    {
     "data": {
      "text/plain": [
       "1.6636400441203911"
      ]
     },
     "execution_count": 154,
     "metadata": {},
     "output_type": "execute_result"
    }
   ],
   "source": [
    "print(\"Forest Score: \", model.score(X_test, y_test))"
   ]
  },
  {
   "cell_type": "code",
   "execution_count": null,
   "metadata": {},
   "outputs": [],
   "source": []
  }
 ],
 "metadata": {
  "kernelspec": {
   "display_name": "cs4390",
   "language": "python",
   "name": "cs4390"
  },
  "language_info": {
   "codemirror_mode": {
    "name": "ipython",
    "version": 3
   },
   "file_extension": ".py",
   "mimetype": "text/x-python",
   "name": "python",
   "nbconvert_exporter": "python",
   "pygments_lexer": "ipython3",
   "version": "3.6.6"
  }
 },
 "nbformat": 4,
 "nbformat_minor": 2
}
